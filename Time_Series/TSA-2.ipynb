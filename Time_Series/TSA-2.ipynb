{
 "cells": [
  {
   "cell_type": "code",
   "execution_count": 1,
   "id": "bbc2068d",
   "metadata": {},
   "outputs": [],
   "source": [
    "import pandas as pd\n",
    "import numpy as np\n",
    "from sklearn.preprocessing import OrdinalEncoder\n",
    "from sklearn.model_selection import train_test_split\n",
    "from sklearn.ensemble import ExtraTreesRegressor\n",
    "from sklearn.ensemble import RandomForestRegressor\n",
    "from sklearn.tree import DecisionTreeRegressor\n",
    "from sklearn.ensemble import VotingRegressor\n",
    "from sklearn import neighbors\n",
    "from sklearn.ensemble import AdaBoostRegressor"
   ]
  },
  {
   "cell_type": "code",
   "execution_count": 2,
   "id": "93c775b5",
   "metadata": {},
   "outputs": [],
   "source": [
    "final2=pd.read_csv(\"prediction2.csv\")\n",
    "final2[\"Year\"].replace('',np.nan,inplace=True)\n",
    "final2[\"Yield rate\"].replace('',np.nan,inplace=True)\n",
    "final2.dropna(subset=['Year'],inplace=True)\n",
    "final2.dropna(subset=['Yield rate'],inplace=True)\n",
    "final2.drop(final2.loc[final2['Crop']==\"Coconut\"].index, inplace=True)"
   ]
  },
  {
   "cell_type": "code",
   "execution_count": 10,
   "id": "50d1f3f6",
   "metadata": {},
   "outputs": [],
   "source": [
    "ord_enc = OrdinalEncoder()\n",
    "final2[\"State_code\"] = ord_enc.fit_transform(final2[[\"State\"]])\n",
    "final2[\"District_code\"] = ord_enc.fit_transform(final2[[\"District\"]])\n",
    "final2[\"Crop_code\"] = ord_enc.fit_transform(final2[[\"Crop\"]])\n",
    "final2[\"Season_code\"] = ord_enc.fit_transform(final2[[\"Season\"]])\n",
    "X = final2[[\"District_code\",\"Crop_code\",\"Season_code\",\"Year\"]]\n",
    "Y = final2[[\"Yield rate\"]].values.flatten()\n",
    "X_train, X_test, Y_train, Y_test = train_test_split(X, Y, test_size = .20)"
   ]
  },
  {
   "cell_type": "code",
   "execution_count": null,
   "id": "98151665",
   "metadata": {},
   "outputs": [
    {
     "name": "stdout",
     "output_type": "stream",
     "text": [
      "[Voting] ....................... (1 of 5) Processing rf, total=  30.9s\n"
     ]
    }
   ],
   "source": [
    "reg1 = RandomForestRegressor(max_depth=None, random_state=0)\n",
    "reg2 = ExtraTreesRegressor(n_estimators=100, random_state=0)\n",
    "reg3 = DecisionTreeRegressor(random_state=0)\n",
    "reg4 = neighbors.KNeighborsRegressor(2, weights='distance')\n",
    "reg5 = AdaBoostRegressor(random_state=0, n_estimators=50)\n",
    "reg = VotingRegressor(estimators=[('rf', reg1), ('et', reg2), ('dt', reg3),('knr',reg4),('abr',reg5)],verbose=True)\n",
    "reg.fit(X_train, Y_train)\n",
    "reg.score(X_test, Y_test)"
   ]
  },
  {
   "cell_type": "code",
   "execution_count": null,
   "id": "64e34e7d",
   "metadata": {},
   "outputs": [],
   "source": []
  }
 ],
 "metadata": {
  "kernelspec": {
   "display_name": "Python 3",
   "language": "python",
   "name": "python3"
  },
  "language_info": {
   "codemirror_mode": {
    "name": "ipython",
    "version": 3
   },
   "file_extension": ".py",
   "mimetype": "text/x-python",
   "name": "python",
   "nbconvert_exporter": "python",
   "pygments_lexer": "ipython3",
   "version": "3.6.9"
  }
 },
 "nbformat": 4,
 "nbformat_minor": 5
}
